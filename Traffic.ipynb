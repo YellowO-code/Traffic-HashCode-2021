{
 "cells": [
  {
   "cell_type": "markdown",
   "metadata": {},
   "source": [
    "# Traffic Problem\n",
    "### Google Hash Code 2021 Qualification Round"
   ]
  },
  {
   "cell_type": "code",
   "execution_count": 22,
   "metadata": {},
   "outputs": [],
   "source": [
    "import pandas as pd\n",
    "import numpy as np"
   ]
  },
  {
   "cell_type": "markdown",
   "metadata": {},
   "source": [
    "#### Defined some variables to take in the inputs as a file rather than stdin"
   ]
  },
  {
   "cell_type": "code",
   "execution_count": 23,
   "metadata": {},
   "outputs": [
    {
     "name": "stdout",
     "output_type": "stream",
     "text": [
      "6 4 5 2 1000\n",
      "2 0 rue-de-londres 1\n",
      "0 1 rue-d-amsterdam 1\n",
      "3 1 rue-d-athenes 1\n",
      "2 3 rue-de-rome 2\n",
      "1 2 rue-de-moscou 3\n",
      "\n",
      "4 rue-de-londres rue-d-amsterdam rue-de-moscou rue-de-rome\n",
      "3 rue-d-athenes rue-de-moscou rue-de-londres\n",
      "\n"
     ]
    }
   ],
   "source": [
    "# Input Cell\n",
    "\n",
    "file = open(\"a.txt\", \"r\")\n",
    "f1 = file.readlines()\n",
    "#print(f1)\n",
    "k = f1[0].rstrip('\\n')\n",
    "\n",
    "l = ''\n",
    "for i in range(1, int(k.split()[2])+1):\n",
    "    l = l + f1[i]\n",
    "\n",
    "m = ''\n",
    "for j in range(int(k.split()[2]) + 1 , int(k.split()[2]) + int(f1[0].split()[3])+1):\n",
    "    m = m + f1[j]\n",
    "\n",
    "print(k)\n",
    "print(l)\n",
    "print(m)"
   ]
  },
  {
   "cell_type": "markdown",
   "metadata": {},
   "source": [
    "## TAKING INPUTS\n",
    "\n",
    "1) Unloading from the above taken variables\n",
    "2) Splitting the inputs into multiple lines, if they contain more than one line\n",
    "3) Creatig a Pandas DataFrame and Adding one-by-one"
   ]
  },
  {
   "cell_type": "code",
   "execution_count": 24,
   "metadata": {},
   "outputs": [
    {
     "name": "stdout",
     "output_type": "stream",
     "text": [
      "['2 0 rue-de-londres 1', '0 1 rue-d-amsterdam 1', '3 1 rue-d-athenes 1', '2 3 rue-de-rome 2', '1 2 rue-de-moscou 3']\n",
      "['2', '0', 'rue-de-londres', '1']\n",
      "['0', '1', 'rue-d-amsterdam', '1']\n",
      "['3', '1', 'rue-d-athenes', '1']\n",
      "['2', '3', 'rue-de-rome', '2']\n",
      "['1', '2', 'rue-de-moscou', '3']\n"
     ]
    }
   ],
   "source": [
    "#taking inputs\n",
    "\n",
    "#first line of input\n",
    "global duration,intersection,streets,vehicles,bonus\n",
    "(duration,intersection,streets,vehicles,bonus) = map(int,k.split())\n",
    "\n",
    "\n",
    "#taking second line of input\n",
    "\n",
    "\n",
    "streetsLine = l.split(\"\\n\")[:-1]\n",
    "print(streetsLine)\n",
    "#creating streets DataFrame\n",
    "streetIndex = pd.DataFrame(columns = ['Start', 'End', 'Name','Time'],\n",
    "index = list(range(len(streetsLine))))\n",
    "\n",
    "#position loc tracker\n",
    "i = 0\n",
    "\n",
    "for eachLine in streetsLine:\n",
    "    print(eachLine.split(\" \"))\n",
    "    (start, end, name, time) = eachLine.split(\" \")\n",
    "    temp = []\n",
    "    temp.append(int(start))\n",
    "    temp.append(int(end))\n",
    "    temp.append(name)\n",
    "    temp.append(int(time))\n",
    "\n",
    "    streetIndex.loc[i] = temp\n",
    "    i += 1\n",
    "\n",
    "\n",
    "#created numpy array to manipulate and use its values\n",
    "streetIndexArr = np.array(streetIndex)"
   ]
  },
  {
   "cell_type": "code",
   "execution_count": 25,
   "metadata": {},
   "outputs": [],
   "source": [
    "#some useful functions\n",
    "def IndexOf(array,name, j):\n",
    "    # j is position of name in the 2D array\n",
    "    for i in range(len(array)):\n",
    "        if streetIndexArr[i][j] == name:\n",
    "            return i\n",
    "\n",
    "\n",
    "def addRow(array):\n",
    "    (rows,col) = array.shape\n",
    "    array = np.append(array,np.zeros((1,rows),dtype=int), axis = 0)\n",
    "    return array\n",
    "\n",
    "\n",
    "def NextIntrevalRow(array):\n",
    "    (row,col) = array.shape\n",
    "    #print(row,col)\n",
    "    k = np.zeros((row,1),dtype = int)\n",
    "    k[0] = col-1\n",
    "    array = np.append(array,k,axis = 1)\n",
    "    return array\n",
    "\n"
   ]
  },
  {
   "cell_type": "code",
   "execution_count": 26,
   "metadata": {},
   "outputs": [
    {
     "name": "stderr",
     "output_type": "stream",
     "text": [
      "C:\\Users\\nfemi\\AppData\\Local\\Programs\\Python\\Python39\\lib\\site-packages\\pandas\\core\\internals\\blocks.py:983: VisibleDeprecationWarning: Creating an ndarray from ragged nested sequences (which is a list-or-tuple of lists-or-tuples-or ndarrays with different lengths or shapes) is deprecated. If you meant to do this, you must specify 'dtype=object' when creating the ndarray.\n",
      "  arr_value = np.array(value)\n"
     ]
    }
   ],
   "source": [
    "#taking vehicle details input\n",
    "\n",
    "vehicleLine = m.split(\"\\n\")[:-1]\n",
    "VehiclePaths = pd.DataFrame(columns = ['No of Paths', 'PathsName','PathIndices','Path'],\n",
    "                            index = list(range(len(vehicleLine))))\n",
    "\n",
    "#position loc tracker\n",
    "i = 0\n",
    "\n",
    "for eachVehicle in vehicleLine:\n",
    "    carDat = eachVehicle.split()\n",
    "    temp = []\n",
    "    temp.append(carDat[0])\n",
    "    temp.append(carDat[1:])\n",
    "    \n",
    "    #to get path indices ie indexes of path according to street Indices\n",
    "    pathIndex = []\n",
    "    for path in carDat[1:]:\n",
    "        index = IndexOf(streetIndexArr,path,2)\n",
    "        pathIndex.append(index)\n",
    "    \n",
    "    temp.append(pathIndex)\n",
    "\n",
    "    pathStr = \"\"\n",
    "    k = 0 #defined to show path 1-0- in paths only for initial path, after that everything will be shown as 2-,3- etc\n",
    "    for path in carDat[1:]:\n",
    "        index = IndexOf(streetIndexArr,path,2)\n",
    "        if k==0:\n",
    "            pathStr += str(streetIndexArr[index][0]) + \"-\" + str(streetIndexArr[index][1]) + \"-\"\n",
    "            k+= 1\n",
    "        else:\n",
    "            pathStr += str(streetIndexArr[index][1]) + \"-\"\n",
    "\n",
    "    temp.append(pathStr)\n",
    "\n",
    "\n",
    "    VehiclePaths.loc[i] = temp\n",
    "    i += 1\n",
    "\n",
    "#created a numpy array to manipulate its values\n",
    "VehiclePathsArr = np.array(VehiclePaths)"
   ]
  },
  {
   "cell_type": "code",
   "execution_count": 27,
   "metadata": {},
   "outputs": [
    {
     "data": {
      "text/html": [
       "<div>\n",
       "<style scoped>\n",
       "    .dataframe tbody tr th:only-of-type {\n",
       "        vertical-align: middle;\n",
       "    }\n",
       "\n",
       "    .dataframe tbody tr th {\n",
       "        vertical-align: top;\n",
       "    }\n",
       "\n",
       "    .dataframe thead th {\n",
       "        text-align: right;\n",
       "    }\n",
       "</style>\n",
       "<table border=\"1\" class=\"dataframe\">\n",
       "  <thead>\n",
       "    <tr style=\"text-align: right;\">\n",
       "      <th></th>\n",
       "      <th>Start</th>\n",
       "      <th>End</th>\n",
       "      <th>Name</th>\n",
       "      <th>Time</th>\n",
       "    </tr>\n",
       "  </thead>\n",
       "  <tbody>\n",
       "    <tr>\n",
       "      <th>0</th>\n",
       "      <td>2</td>\n",
       "      <td>0</td>\n",
       "      <td>rue-de-londres</td>\n",
       "      <td>1</td>\n",
       "    </tr>\n",
       "    <tr>\n",
       "      <th>1</th>\n",
       "      <td>0</td>\n",
       "      <td>1</td>\n",
       "      <td>rue-d-amsterdam</td>\n",
       "      <td>1</td>\n",
       "    </tr>\n",
       "    <tr>\n",
       "      <th>2</th>\n",
       "      <td>3</td>\n",
       "      <td>1</td>\n",
       "      <td>rue-d-athenes</td>\n",
       "      <td>1</td>\n",
       "    </tr>\n",
       "    <tr>\n",
       "      <th>3</th>\n",
       "      <td>2</td>\n",
       "      <td>3</td>\n",
       "      <td>rue-de-rome</td>\n",
       "      <td>2</td>\n",
       "    </tr>\n",
       "    <tr>\n",
       "      <th>4</th>\n",
       "      <td>1</td>\n",
       "      <td>2</td>\n",
       "      <td>rue-de-moscou</td>\n",
       "      <td>3</td>\n",
       "    </tr>\n",
       "  </tbody>\n",
       "</table>\n",
       "</div>"
      ],
      "text/plain": [
       "  Start End             Name Time\n",
       "0     2   0   rue-de-londres    1\n",
       "1     0   1  rue-d-amsterdam    1\n",
       "2     3   1    rue-d-athenes    1\n",
       "3     2   3      rue-de-rome    2\n",
       "4     1   2    rue-de-moscou    3"
      ]
     },
     "execution_count": 27,
     "metadata": {},
     "output_type": "execute_result"
    }
   ],
   "source": [
    "streetIndex"
   ]
  },
  {
   "cell_type": "code",
   "execution_count": 28,
   "metadata": {},
   "outputs": [
    {
     "data": {
      "text/html": [
       "<div>\n",
       "<style scoped>\n",
       "    .dataframe tbody tr th:only-of-type {\n",
       "        vertical-align: middle;\n",
       "    }\n",
       "\n",
       "    .dataframe tbody tr th {\n",
       "        vertical-align: top;\n",
       "    }\n",
       "\n",
       "    .dataframe thead th {\n",
       "        text-align: right;\n",
       "    }\n",
       "</style>\n",
       "<table border=\"1\" class=\"dataframe\">\n",
       "  <thead>\n",
       "    <tr style=\"text-align: right;\">\n",
       "      <th></th>\n",
       "      <th>No of Paths</th>\n",
       "      <th>PathsName</th>\n",
       "      <th>PathIndices</th>\n",
       "      <th>Path</th>\n",
       "    </tr>\n",
       "  </thead>\n",
       "  <tbody>\n",
       "    <tr>\n",
       "      <th>0</th>\n",
       "      <td>4</td>\n",
       "      <td>[rue-de-londres, rue-d-amsterdam, rue-de-mosco...</td>\n",
       "      <td>[0, 1, 4, 3]</td>\n",
       "      <td>2-0-1-2-3-</td>\n",
       "    </tr>\n",
       "    <tr>\n",
       "      <th>1</th>\n",
       "      <td>3</td>\n",
       "      <td>[rue-d-athenes, rue-de-moscou, rue-de-londres]</td>\n",
       "      <td>[2, 4, 0]</td>\n",
       "      <td>3-1-2-0-</td>\n",
       "    </tr>\n",
       "  </tbody>\n",
       "</table>\n",
       "</div>"
      ],
      "text/plain": [
       "  No of Paths                                          PathsName  \\\n",
       "0           4  [rue-de-londres, rue-d-amsterdam, rue-de-mosco...   \n",
       "1           3     [rue-d-athenes, rue-de-moscou, rue-de-londres]   \n",
       "\n",
       "    PathIndices        Path  \n",
       "0  [0, 1, 4, 3]  2-0-1-2-3-  \n",
       "1     [2, 4, 0]    3-1-2-0-  "
      ]
     },
     "execution_count": 28,
     "metadata": {},
     "output_type": "execute_result"
    }
   ],
   "source": [
    "VehiclePaths"
   ]
  },
  {
   "cell_type": "markdown",
   "metadata": {},
   "source": [
    "## Simulation Part -  1\n",
    "\n",
    "creating TRACK TABLES"
   ]
  },
  {
   "cell_type": "code",
   "execution_count": 29,
   "metadata": {},
   "outputs": [
    {
     "data": {
      "text/plain": [
       "array([[ 0, -1, -1, -1, -1, -1, -1, -1],\n",
       "       [ 1, -1, -1, -1, -1, -1, -1, -1],\n",
       "       [ 2, -1, -1, -1, -1, -1, -1, -1],\n",
       "       [ 3, -1, -1, -1, -1, -1, -1, -1]])"
      ]
     },
     "execution_count": 29,
     "metadata": {},
     "output_type": "execute_result"
    }
   ],
   "source": [
    "#FOR Intersection/TIME TABLE\n",
    "\n",
    "nodes = [i for i in range(intersection)]\n",
    "noOfNodes = len(nodes)\n",
    "\n",
    "rows = np.array([nodes])\n",
    "rows.resize((noOfNodes,1))\n",
    "#print(rows.shape)\n",
    "IntersectionTime = np.empty((intersection,duration+1))\n",
    "IntersectionTime.fill(-1)\n",
    "#print(IntersectionTime.shape)\n",
    "IntersectionTime = np.append(rows,IntersectionTime,axis=1)\n",
    "IntersectionTime = np.array(IntersectionTime,dtype=int)\n",
    "IntersectionTime\n"
   ]
  },
  {
   "cell_type": "code",
   "execution_count": 30,
   "metadata": {},
   "outputs": [
    {
     "data": {
      "text/plain": [
       "array([[ 0, -1, -1, -1, -1, -1, -1, -1],\n",
       "       [ 1, -1, -1, -1, -1, -1, -1, -1]])"
      ]
     },
     "execution_count": 30,
     "metadata": {},
     "output_type": "execute_result"
    }
   ],
   "source": [
    "cars = [i for i in range(vehicles)]\n",
    "noOfCars = vehicles\n",
    "row = np.array([cars])\n",
    "row.resize((noOfCars,1))\n",
    "row.shape\n",
    "#duration +1 to get time for 0 -> duration sec\n",
    "CarTime = np.empty((vehicles,duration+1))\n",
    "CarTime.fill(-1)\n",
    "CarTime = np.append(row,CarTime,axis=1)\n",
    "CarTime = np.array(CarTime,dtype=int)\n",
    "CarTime"
   ]
  },
  {
   "cell_type": "code",
   "execution_count": 31,
   "metadata": {},
   "outputs": [
    {
     "data": {
      "text/html": [
       "<div>\n",
       "<style scoped>\n",
       "    .dataframe tbody tr th:only-of-type {\n",
       "        vertical-align: middle;\n",
       "    }\n",
       "\n",
       "    .dataframe tbody tr th {\n",
       "        vertical-align: top;\n",
       "    }\n",
       "\n",
       "    .dataframe thead th {\n",
       "        text-align: right;\n",
       "    }\n",
       "</style>\n",
       "<table border=\"1\" class=\"dataframe\">\n",
       "  <thead>\n",
       "    <tr style=\"text-align: right;\">\n",
       "      <th></th>\n",
       "      <th>No of Paths</th>\n",
       "      <th>PathsName</th>\n",
       "      <th>PathIndices</th>\n",
       "      <th>Path</th>\n",
       "    </tr>\n",
       "  </thead>\n",
       "  <tbody>\n",
       "    <tr>\n",
       "      <th>0</th>\n",
       "      <td>4</td>\n",
       "      <td>[rue-de-londres, rue-d-amsterdam, rue-de-mosco...</td>\n",
       "      <td>[0, 1, 4, 3]</td>\n",
       "      <td>2-0-1-2-3-</td>\n",
       "    </tr>\n",
       "    <tr>\n",
       "      <th>1</th>\n",
       "      <td>3</td>\n",
       "      <td>[rue-d-athenes, rue-de-moscou, rue-de-londres]</td>\n",
       "      <td>[2, 4, 0]</td>\n",
       "      <td>3-1-2-0-</td>\n",
       "    </tr>\n",
       "  </tbody>\n",
       "</table>\n",
       "</div>"
      ],
      "text/plain": [
       "  No of Paths                                          PathsName  \\\n",
       "0           4  [rue-de-londres, rue-d-amsterdam, rue-de-mosco...   \n",
       "1           3     [rue-d-athenes, rue-de-moscou, rue-de-londres]   \n",
       "\n",
       "    PathIndices        Path  \n",
       "0  [0, 1, 4, 3]  2-0-1-2-3-  \n",
       "1     [2, 4, 0]    3-1-2-0-  "
      ]
     },
     "execution_count": 31,
     "metadata": {},
     "output_type": "execute_result"
    }
   ],
   "source": [
    "VehiclePaths"
   ]
  },
  {
   "cell_type": "code",
   "execution_count": 32,
   "metadata": {},
   "outputs": [
    {
     "data": {
      "text/html": [
       "<div>\n",
       "<style scoped>\n",
       "    .dataframe tbody tr th:only-of-type {\n",
       "        vertical-align: middle;\n",
       "    }\n",
       "\n",
       "    .dataframe tbody tr th {\n",
       "        vertical-align: top;\n",
       "    }\n",
       "\n",
       "    .dataframe thead th {\n",
       "        text-align: right;\n",
       "    }\n",
       "</style>\n",
       "<table border=\"1\" class=\"dataframe\">\n",
       "  <thead>\n",
       "    <tr style=\"text-align: right;\">\n",
       "      <th></th>\n",
       "      <th>Start</th>\n",
       "      <th>End</th>\n",
       "      <th>Name</th>\n",
       "      <th>Time</th>\n",
       "    </tr>\n",
       "  </thead>\n",
       "  <tbody>\n",
       "    <tr>\n",
       "      <th>0</th>\n",
       "      <td>2</td>\n",
       "      <td>0</td>\n",
       "      <td>rue-de-londres</td>\n",
       "      <td>1</td>\n",
       "    </tr>\n",
       "    <tr>\n",
       "      <th>1</th>\n",
       "      <td>0</td>\n",
       "      <td>1</td>\n",
       "      <td>rue-d-amsterdam</td>\n",
       "      <td>1</td>\n",
       "    </tr>\n",
       "    <tr>\n",
       "      <th>2</th>\n",
       "      <td>3</td>\n",
       "      <td>1</td>\n",
       "      <td>rue-d-athenes</td>\n",
       "      <td>1</td>\n",
       "    </tr>\n",
       "    <tr>\n",
       "      <th>3</th>\n",
       "      <td>2</td>\n",
       "      <td>3</td>\n",
       "      <td>rue-de-rome</td>\n",
       "      <td>2</td>\n",
       "    </tr>\n",
       "    <tr>\n",
       "      <th>4</th>\n",
       "      <td>1</td>\n",
       "      <td>2</td>\n",
       "      <td>rue-de-moscou</td>\n",
       "      <td>3</td>\n",
       "    </tr>\n",
       "  </tbody>\n",
       "</table>\n",
       "</div>"
      ],
      "text/plain": [
       "  Start End             Name Time\n",
       "0     2   0   rue-de-londres    1\n",
       "1     0   1  rue-d-amsterdam    1\n",
       "2     3   1    rue-d-athenes    1\n",
       "3     2   3      rue-de-rome    2\n",
       "4     1   2    rue-de-moscou    3"
      ]
     },
     "execution_count": 32,
     "metadata": {},
     "output_type": "execute_result"
    }
   ],
   "source": [
    "streetIndex"
   ]
  },
  {
   "cell_type": "markdown",
   "metadata": {},
   "source": [
    "## Scoring Function"
   ]
  },
  {
   "cell_type": "code",
   "execution_count": 33,
   "metadata": {},
   "outputs": [],
   "source": [
    "#Output\n",
    "\n",
    "# NO OF INTERSECTION\n",
    "#for each intersection:\n",
    "#   ID\n",
    "#   NO OF INCOMING STREETS\n",
    "#   FOR EACH INCOMING STREETS:\n",
    "#       NAME GREEN_LIGHT_DURATION\n",
    "\n",
    "#Scoring\n",
    "\n",
    "# F + (D-T)\n",
    "# Bonus + (Duration - TimeSpentToComplete)"
   ]
  },
  {
   "cell_type": "code",
   "execution_count": 34,
   "metadata": {},
   "outputs": [],
   "source": [
    "def score(text):\n",
    "\n",
    "    #Taking inputs \n",
    "    #-----------------------------------------------------------------------\n",
    "    collector = text.split()\n",
    "    #creating an indexing iterator to grab data\n",
    "    k = 0\n",
    "    NoOfIntesections = int(collector[k])\n",
    "    k += 1\n",
    "    IntersectionData = []\n",
    "    for i in range(NoOfIntesections):\n",
    "        ID = int(collector[k])\n",
    "        k += 1\n",
    "        NoOfIncomingStreets = int(collector[k])\n",
    "        k += 1\n",
    "        IncStreetData = []\n",
    "        for j in range(NoOfIncomingStreets):\n",
    "            name = collector[k]\n",
    "            k += 1\n",
    "            duration = int(collector[k])\n",
    "            k += 1\n",
    "            IncStreetData.append((name,duration))\n",
    "        \n",
    "        IntersectionData.append((ID,NoOfIncomingStreets,IncStreetData))\n",
    "        #print(IntersectionData)\n",
    "\n",
    "    #Inputs gathering finishes\n",
    "    #------------------------------------------------------------------------------------\n",
    "\n",
    "    #finding T\n",
    "    # T = time taken by each car\n",
    "\n",
    "    \n",
    "\n",
    "    #score = (bonus + (duration-t))\n",
    "    pass\n"
   ]
  },
  {
   "cell_type": "code",
   "execution_count": 35,
   "metadata": {},
   "outputs": [],
   "source": [
    "def Score2(timeList):\n",
    "    global duration\n",
    "    global bonus\n",
    "    times = []\n",
    "    for i in timeList:\n",
    "        if i <= duration:\n",
    "            times.append(i)\n",
    "\n",
    "    timesArr = np.array(times)\n",
    "    \n",
    "    cars = len(timesArr)\n",
    "    score = (cars*(bonus+duration)) - timesArr.sum()\n",
    "\n",
    "    return score"
   ]
  },
  {
   "cell_type": "code",
   "execution_count": 36,
   "metadata": {},
   "outputs": [],
   "source": [
    "text = '''\n",
    "3\n",
    "1\n",
    "2\n",
    "rue-d-athenes 2\n",
    "rue-d-amsterdam 1\n",
    "0\n",
    "1\n",
    "rue-de-londres 2\n",
    "2\n",
    "1\n",
    "rue-de-moscou 1\n",
    "'''"
   ]
  },
  {
   "cell_type": "code",
   "execution_count": 37,
   "metadata": {},
   "outputs": [],
   "source": [
    "score(text)"
   ]
  },
  {
   "cell_type": "code",
   "execution_count": 38,
   "metadata": {},
   "outputs": [
    {
     "name": "stdout",
     "output_type": "stream",
     "text": [
      "1002\n"
     ]
    }
   ],
   "source": [
    "time = [4,7]\n",
    "print(Score2(time))"
   ]
  },
  {
   "cell_type": "markdown",
   "metadata": {},
   "source": [
    "## Simulation Part - 1\n",
    "### Creating Car Objects"
   ]
  },
  {
   "cell_type": "markdown",
   "metadata": {},
   "source": [
    "Scheduler"
   ]
  },
  {
   "cell_type": "code",
   "execution_count": 39,
   "metadata": {},
   "outputs": [
    {
     "data": {
      "text/html": [
       "<div>\n",
       "<style scoped>\n",
       "    .dataframe tbody tr th:only-of-type {\n",
       "        vertical-align: middle;\n",
       "    }\n",
       "\n",
       "    .dataframe tbody tr th {\n",
       "        vertical-align: top;\n",
       "    }\n",
       "\n",
       "    .dataframe thead th {\n",
       "        text-align: right;\n",
       "    }\n",
       "</style>\n",
       "<table border=\"1\" class=\"dataframe\">\n",
       "  <thead>\n",
       "    <tr style=\"text-align: right;\">\n",
       "      <th></th>\n",
       "      <th>No of Paths</th>\n",
       "      <th>PathsName</th>\n",
       "      <th>PathIndices</th>\n",
       "      <th>Path</th>\n",
       "    </tr>\n",
       "  </thead>\n",
       "  <tbody>\n",
       "    <tr>\n",
       "      <th>0</th>\n",
       "      <td>4</td>\n",
       "      <td>[rue-de-londres, rue-d-amsterdam, rue-de-mosco...</td>\n",
       "      <td>[0, 1, 4, 3]</td>\n",
       "      <td>2-0-1-2-3-</td>\n",
       "    </tr>\n",
       "    <tr>\n",
       "      <th>1</th>\n",
       "      <td>3</td>\n",
       "      <td>[rue-d-athenes, rue-de-moscou, rue-de-londres]</td>\n",
       "      <td>[2, 4, 0]</td>\n",
       "      <td>3-1-2-0-</td>\n",
       "    </tr>\n",
       "  </tbody>\n",
       "</table>\n",
       "</div>"
      ],
      "text/plain": [
       "  No of Paths                                          PathsName  \\\n",
       "0           4  [rue-de-londres, rue-d-amsterdam, rue-de-mosco...   \n",
       "1           3     [rue-d-athenes, rue-de-moscou, rue-de-londres]   \n",
       "\n",
       "    PathIndices        Path  \n",
       "0  [0, 1, 4, 3]  2-0-1-2-3-  \n",
       "1     [2, 4, 0]    3-1-2-0-  "
      ]
     },
     "execution_count": 39,
     "metadata": {},
     "output_type": "execute_result"
    }
   ],
   "source": [
    "VehiclePaths"
   ]
  },
  {
   "cell_type": "code",
   "execution_count": null,
   "metadata": {},
   "outputs": [],
   "source": []
  },
  {
   "cell_type": "code",
   "execution_count": 40,
   "metadata": {},
   "outputs": [],
   "source": [
    "class Car:\n",
    "    loc = 0\n",
    "    TimeUsed = 0\n",
    "\n",
    "    def __init__(self,index,path,gas):\n",
    "        self.index = index\n",
    "        self.path = path\n",
    "        self.loc = path[0]\n",
    "        Car.gas = gas\n",
    "\n",
    "\n",
    "    def move(self):\n",
    "        if Car.loc < len(self.path)-1:\n",
    "            Car.loc += 1\n",
    "            #print(Car.loc)\n",
    "            Car.TimeUsed += Car.gas[(Car.loc)-1]\n",
    "            #print(\"Time : \"+str(Car.TimeUsed))\n",
    "            self.loc = self.path[Car.loc]\n",
    "            #print(\"Car Moved to \"+str(self.loc))\n",
    "        else:\n",
    "            #print(\"Path Over\")\n",
    "            pass\n",
    "\n",
    "    def PassTime(self,dur):\n",
    "        Car.TimeUsed += dur\n",
    "    \n",
    "    def ShowLocation(self):\n",
    "        return self.loc\n",
    "\n",
    "    def ShowTimeUsed(self):\n",
    "        return Car.TimeUsed\n",
    "\n",
    "    def PrintStats(self):\n",
    "        print(\"Location : \"+ str(self.ShowLocation()))\n",
    "        print(\"Time Spent : \"+ str(self.ShowTimeUsed()))\n",
    "\n",
    "    def printPath(self):\n",
    "        print(self.path)"
   ]
  },
  {
   "cell_type": "code",
   "execution_count": 41,
   "metadata": {},
   "outputs": [
    {
     "data": {
      "text/plain": [
       "array([[ 0,  2,  0,  1, -1, -1, -1,  2],\n",
       "       [ 1, -1, -1, -1, -1, -1, -1, -1]])"
      ]
     },
     "execution_count": 41,
     "metadata": {},
     "output_type": "execute_result"
    }
   ],
   "source": [
    "#scheduler tracks events in the board at every intr\n",
    "global TimeE\n",
    "TimeE = 0\n",
    "\n",
    "'''\n",
    "schedule:\n",
    "Node 1 : 2 for athens\n",
    "        : 1 for amsterdam\n",
    "\n",
    "Node 0 : 1 sec for londres\n",
    "\n",
    "Node 2 : 1 sec for  moscow\n",
    "'''\n",
    "\n",
    "#INITIALIZING Vehicle path\n",
    "path = VehiclePathsArr[0][3].split(\"-\")\n",
    "path.pop()\n",
    "path = list(map(int,path))\n",
    "gas = []\n",
    "\n",
    "for k in VehiclePathsArr[0][2]:\n",
    "    gas.append(streetIndexArr[k][3])\n",
    "\n",
    "#initializing the Car\n",
    "carA = Car(0,path,gas)\n",
    "\n",
    "\n",
    "TimeE = 0\n",
    "green = 1\n",
    "while (TimeE <= duration):\n",
    "    CarTime[carA.index][TimeE+1] = carA.loc\n",
    "    if green == 1:\n",
    "        carA.PassTime(1)\n",
    "        carA.move()\n",
    "        TimeE = carA.TimeUsed\n",
    "        #print(TimeE)\n",
    "    else:\n",
    "        print(\"hello\")\n",
    "        #waiting in traffic\n",
    "        carA.PassTime(1)\n",
    "        #moving through traffic\n",
    "        carA.PassTime(1)\n",
    "        TimeE = carA.TimeUsed\n",
    "CarTime\n"
   ]
  },
  {
   "cell_type": "code",
   "execution_count": null,
   "metadata": {},
   "outputs": [],
   "source": []
  }
 ],
 "metadata": {
  "interpreter": {
   "hash": "9303b8bcab17a669654b167c8d3a2c8a21a90a4f2416413e830d937fd9b93bf8"
  },
  "kernelspec": {
   "display_name": "Python 3.9.5 64-bit",
   "language": "python",
   "name": "python3"
  },
  "language_info": {
   "codemirror_mode": {
    "name": "ipython",
    "version": 3
   },
   "file_extension": ".py",
   "mimetype": "text/x-python",
   "name": "python",
   "nbconvert_exporter": "python",
   "pygments_lexer": "ipython3",
   "version": "3.9.5"
  },
  "orig_nbformat": 4
 },
 "nbformat": 4,
 "nbformat_minor": 2
}
