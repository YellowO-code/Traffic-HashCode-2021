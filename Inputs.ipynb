{
 "cells": [
  {
   "cell_type": "markdown",
   "metadata": {},
   "source": [
    "# Traffic Problem\n",
    "### Google Hash Code 2021 Qualification Round"
   ]
  },
  {
   "cell_type": "code",
   "execution_count": 1,
   "metadata": {},
   "outputs": [],
   "source": [
    "import pandas as pd\n",
    "import numpy as np"
   ]
  },
  {
   "cell_type": "markdown",
   "metadata": {},
   "source": [
    "#### Defined some variables to take in the inputs as a file rather than stdin"
   ]
  },
  {
   "cell_type": "code",
   "execution_count": 2,
   "metadata": {},
   "outputs": [],
   "source": [
    "#using inputs saperately for ease of use\n",
    "#k is first line\n",
    "k = \"6 4 5 2 1000\"\n",
    "\n",
    "#l is scond line of code, which gives info about streets\n",
    "l = '''2 0 rue-de-londres 1\n",
    "0 1 rue-d-amsterdam 1\n",
    "3 1 rue-d-athenes 1\n",
    "2 3 rue-de-rome 2\n",
    "1 2 rue-de-moscou 3'''\n",
    "\n",
    "#m is third line of code, which gives info about vehicles and path\n",
    "m = '''4 rue-de-londres rue-d-amsterdam rue-de-moscou rue-de-rome\n",
    "3 rue-d-athenes rue-de-moscou rue-de-londres'''\n"
   ]
  },
  {
   "cell_type": "markdown",
   "metadata": {},
   "source": [
    "## TAKING INPUTS\n",
    "\n",
    "1) Unloading from the above taken variables\n",
    "2) Splitting the inputs into multiple lines, if they contain more than one line\n",
    "3) Creatig a Pandas DataFrame and Adding one-by-one"
   ]
  },
  {
   "cell_type": "code",
   "execution_count": 3,
   "metadata": {},
   "outputs": [],
   "source": [
    "#taking inputs\n",
    "\n",
    "#first line of input\n",
    "global duration,intersection,streets,vehicles,bonus\n",
    "(duration,intersection,streets,vehicles,bonus) = map(int,k.split())\n",
    "\n",
    "\n",
    "#taking second line of input\n",
    "\n",
    "\n",
    "streetsLine = l.split(\"\\n\")\n",
    "\n",
    "#creating streets DataFrame\n",
    "streetIndex = pd.DataFrame(columns = ['Start', 'End', 'Name','Time'],\n",
    "index = list(range(len(streetsLine))))\n",
    "\n",
    "#position loc tracker\n",
    "i = 0\n",
    "\n",
    "for eachLine in streetsLine:\n",
    "    (start, end, name, time) = eachLine.split(\" \")\n",
    "    temp = []\n",
    "    temp.append(int(start))\n",
    "    temp.append(int(end))\n",
    "    temp.append(name)\n",
    "    temp.append(int(time))\n",
    "\n",
    "    streetIndex.loc[i] = temp\n",
    "    i += 1\n",
    "\n",
    "\n",
    "#created numpy array to manipulate and use its values\n",
    "streetIndexArr = np.array(streetIndex)\n"
   ]
  },
  {
   "cell_type": "code",
   "execution_count": 4,
   "metadata": {},
   "outputs": [],
   "source": [
    "#some useful functions\n",
    "def IndexOf(array,name, j):\n",
    "    # j is position of name in the 2D array\n",
    "    for i in range(len(array)):\n",
    "        if streetIndexArr[i][j] == name:\n",
    "            return i\n"
   ]
  },
  {
   "cell_type": "code",
   "execution_count": 21,
   "metadata": {},
   "outputs": [
    {
     "name": "stderr",
     "output_type": "stream",
     "text": [
      "C:\\Users\\nfemi\\AppData\\Local\\Programs\\Python\\Python39\\lib\\site-packages\\pandas\\core\\internals\\blocks.py:983: VisibleDeprecationWarning: Creating an ndarray from ragged nested sequences (which is a list-or-tuple of lists-or-tuples-or ndarrays with different lengths or shapes) is deprecated. If you meant to do this, you must specify 'dtype=object' when creating the ndarray.\n",
      "  arr_value = np.array(value)\n"
     ]
    }
   ],
   "source": [
    "#taking vehicle details input\n",
    "\n",
    "vehicleLine = m.split(\"\\n\")\n",
    "\n",
    "VehiclePaths = pd.DataFrame(columns = ['No of Paths', 'PathsName','PathIndices','Path'],\n",
    "index = list(range(len(vehicleLine))))\n",
    "\n",
    "#position loc tracker\n",
    "i = 0\n",
    "\n",
    "for eachVehicle in vehicleLine:\n",
    "    carDat = eachVehicle.split()\n",
    "    temp = []\n",
    "    temp.append(carDat[0])\n",
    "    temp.append(carDat[1:])\n",
    "    \n",
    "    #to get path indices ie indexes of path according to street Indices\n",
    "    pathIndex = []\n",
    "    for path in carDat[1:]:\n",
    "        index = IndexOf(streetIndexArr,path,2)\n",
    "        pathIndex.append(index)\n",
    "    \n",
    "    temp.append(pathIndex)\n",
    "\n",
    "    pathStr = \"\"\n",
    "    k = 0 #defined to show path 1-0- in paths only for initial path, after that everything will be shown as 2-,3- etc\n",
    "    for path in carDat[1:]:\n",
    "        index = IndexOf(streetIndexArr,path,2)\n",
    "        if k==0:\n",
    "            pathStr += str(streetIndexArr[index][0]) + \"-\" + str(streetIndexArr[index][1]) + \"-\"\n",
    "            k+= 1\n",
    "        else:\n",
    "            pathStr += str(streetIndexArr[index][1]) + \"-\"\n",
    "\n",
    "    temp.append(pathStr)\n",
    "\n",
    "\n",
    "    VehiclePaths.loc[i] = temp\n",
    "    i += 1\n",
    "\n",
    "#created a numpy array to manipulate its values\n",
    "VehiclePathsArr = np.array(VehiclePaths)"
   ]
  },
  {
   "cell_type": "code",
   "execution_count": 22,
   "metadata": {},
   "outputs": [
    {
     "data": {
      "text/html": [
       "<div>\n",
       "<style scoped>\n",
       "    .dataframe tbody tr th:only-of-type {\n",
       "        vertical-align: middle;\n",
       "    }\n",
       "\n",
       "    .dataframe tbody tr th {\n",
       "        vertical-align: top;\n",
       "    }\n",
       "\n",
       "    .dataframe thead th {\n",
       "        text-align: right;\n",
       "    }\n",
       "</style>\n",
       "<table border=\"1\" class=\"dataframe\">\n",
       "  <thead>\n",
       "    <tr style=\"text-align: right;\">\n",
       "      <th></th>\n",
       "      <th>Start</th>\n",
       "      <th>End</th>\n",
       "      <th>Name</th>\n",
       "      <th>Time</th>\n",
       "    </tr>\n",
       "  </thead>\n",
       "  <tbody>\n",
       "    <tr>\n",
       "      <th>0</th>\n",
       "      <td>2</td>\n",
       "      <td>0</td>\n",
       "      <td>rue-de-londres</td>\n",
       "      <td>1</td>\n",
       "    </tr>\n",
       "    <tr>\n",
       "      <th>1</th>\n",
       "      <td>0</td>\n",
       "      <td>1</td>\n",
       "      <td>rue-d-amsterdam</td>\n",
       "      <td>1</td>\n",
       "    </tr>\n",
       "    <tr>\n",
       "      <th>2</th>\n",
       "      <td>3</td>\n",
       "      <td>1</td>\n",
       "      <td>rue-d-athenes</td>\n",
       "      <td>1</td>\n",
       "    </tr>\n",
       "    <tr>\n",
       "      <th>3</th>\n",
       "      <td>2</td>\n",
       "      <td>3</td>\n",
       "      <td>rue-de-rome</td>\n",
       "      <td>2</td>\n",
       "    </tr>\n",
       "    <tr>\n",
       "      <th>4</th>\n",
       "      <td>1</td>\n",
       "      <td>2</td>\n",
       "      <td>rue-de-moscou</td>\n",
       "      <td>3</td>\n",
       "    </tr>\n",
       "  </tbody>\n",
       "</table>\n",
       "</div>"
      ],
      "text/plain": [
       "  Start End             Name Time\n",
       "0     2   0   rue-de-londres    1\n",
       "1     0   1  rue-d-amsterdam    1\n",
       "2     3   1    rue-d-athenes    1\n",
       "3     2   3      rue-de-rome    2\n",
       "4     1   2    rue-de-moscou    3"
      ]
     },
     "execution_count": 22,
     "metadata": {},
     "output_type": "execute_result"
    }
   ],
   "source": [
    "streetIndex"
   ]
  },
  {
   "cell_type": "code",
   "execution_count": 23,
   "metadata": {},
   "outputs": [
    {
     "data": {
      "text/html": [
       "<div>\n",
       "<style scoped>\n",
       "    .dataframe tbody tr th:only-of-type {\n",
       "        vertical-align: middle;\n",
       "    }\n",
       "\n",
       "    .dataframe tbody tr th {\n",
       "        vertical-align: top;\n",
       "    }\n",
       "\n",
       "    .dataframe thead th {\n",
       "        text-align: right;\n",
       "    }\n",
       "</style>\n",
       "<table border=\"1\" class=\"dataframe\">\n",
       "  <thead>\n",
       "    <tr style=\"text-align: right;\">\n",
       "      <th></th>\n",
       "      <th>No of Paths</th>\n",
       "      <th>PathsName</th>\n",
       "      <th>PathIndices</th>\n",
       "      <th>Path</th>\n",
       "    </tr>\n",
       "  </thead>\n",
       "  <tbody>\n",
       "    <tr>\n",
       "      <th>0</th>\n",
       "      <td>4</td>\n",
       "      <td>[rue-de-londres, rue-d-amsterdam, rue-de-mosco...</td>\n",
       "      <td>[0, 1, 4, 3]</td>\n",
       "      <td>2-0-1-2-3-</td>\n",
       "    </tr>\n",
       "    <tr>\n",
       "      <th>1</th>\n",
       "      <td>3</td>\n",
       "      <td>[rue-d-athenes, rue-de-moscou, rue-de-londres]</td>\n",
       "      <td>[2, 4, 0]</td>\n",
       "      <td>3-1-2-0-</td>\n",
       "    </tr>\n",
       "  </tbody>\n",
       "</table>\n",
       "</div>"
      ],
      "text/plain": [
       "  No of Paths                                          PathsName  \\\n",
       "0           4  [rue-de-londres, rue-d-amsterdam, rue-de-mosco...   \n",
       "1           3     [rue-d-athenes, rue-de-moscou, rue-de-londres]   \n",
       "\n",
       "    PathIndices        Path  \n",
       "0  [0, 1, 4, 3]  2-0-1-2-3-  \n",
       "1     [2, 4, 0]    3-1-2-0-  "
      ]
     },
     "execution_count": 23,
     "metadata": {},
     "output_type": "execute_result"
    }
   ],
   "source": [
    "VehiclePaths"
   ]
  },
  {
   "cell_type": "code",
   "execution_count": null,
   "metadata": {},
   "outputs": [],
   "source": []
  }
 ],
 "metadata": {
  "interpreter": {
   "hash": "9303b8bcab17a669654b167c8d3a2c8a21a90a4f2416413e830d937fd9b93bf8"
  },
  "kernelspec": {
   "display_name": "Python 3.9.5 64-bit",
   "language": "python",
   "name": "python3"
  },
  "language_info": {
   "codemirror_mode": {
    "name": "ipython",
    "version": 3
   },
   "file_extension": ".py",
   "mimetype": "text/x-python",
   "name": "python",
   "nbconvert_exporter": "python",
   "pygments_lexer": "ipython3",
   "version": "3.9.5"
  },
  "orig_nbformat": 4
 },
 "nbformat": 4,
 "nbformat_minor": 2
}
